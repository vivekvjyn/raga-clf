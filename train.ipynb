{
 "cells": [
  {
   "cell_type": "code",
   "execution_count": 1,
   "id": "24335f78-fbd8-4fa6-b5ef-7b0b628f30be",
   "metadata": {},
   "outputs": [],
   "source": [
    "import numpy as np\n",
    "import tensorflow as tf\n",
    "from tensorflow.keras.models import Model\n",
    "from tensorflow.keras.layers import Input, GRU, Dense, Attention, Concatenate\n",
    "from tensorflow.keras.optimizers import Adam\n",
    "from tensorflow.keras.losses import CategoricalCrossentropy\n",
    "from sklearn.model_selection import train_test_split"
   ]
  },
  {
   "cell_type": "code",
   "execution_count": 2,
   "id": "47893534-b5ca-4528-b119-38884dbb5282",
   "metadata": {},
   "outputs": [],
   "source": [
    "X_cents = np.load('dataset/cents.npy')\n",
    "X_counts = np.load('dataset/counts.npy')\n",
    "y = np.load('dataset/labels.npy')"
   ]
  },
  {
   "cell_type": "code",
   "execution_count": 3,
   "id": "5868d2ef-21fd-48b4-9c26-1651044a1228",
   "metadata": {},
   "outputs": [
    {
     "name": "stdout",
     "output_type": "stream",
     "text": [
      "X_cents shape: (149084, 1024)\n",
      "X_counts shape: (149084, 73)\n",
      "y shape: (149084, 40)\n"
     ]
    }
   ],
   "source": [
    "print(f'X_cents shape: {X_cents.shape}')\n",
    "print(f'X_counts shape: {X_counts.shape}')\n",
    "print(f'y shape: {y.shape}')"
   ]
  },
  {
   "cell_type": "code",
   "execution_count": 4,
   "id": "188687a1-9959-4f5a-88d1-58eb41f878a1",
   "metadata": {},
   "outputs": [],
   "source": [
    "X_cents_train, X_cents_temp, X_counts_train, X_counts_temp, y_train, y_temp = train_test_split(X_cents, X_counts, y, test_size=0.3, random_state=42)\n",
    "X_cents_val, X_cents_test, X_counts_val, X_counts_test, y_val, y_test = train_test_split(X_cents_temp, X_counts_temp, y_temp, test_size=0.5, random_state=42)"
   ]
  },
  {
   "cell_type": "code",
   "execution_count": 5,
   "id": "3f4e92c8-5a1f-4929-8ad1-90353e9d72cf",
   "metadata": {},
   "outputs": [],
   "source": [
    "seq_input = Input(shape=(None, 1))\n",
    "static_input = Input(shape=(X_counts.shape[1],))"
   ]
  },
  {
   "cell_type": "code",
   "execution_count": 8,
   "id": "6bf94271-7e26-44f9-98d1-434a5b081454",
   "metadata": {},
   "outputs": [],
   "source": [
    "# DeepGRU\n",
    "x = GRU(256, return_sequences=True)(seq_input)\n",
    "x = GRU(256, return_sequences=True)(x)"
   ]
  },
  {
   "cell_type": "code",
   "execution_count": 9,
   "id": "0721dcd8-5883-4980-bab5-371976a06198",
   "metadata": {},
   "outputs": [],
   "source": [
    "# Attention\n",
    "attention = Attention()([x, x])\n",
    "context = tf.reduce_sum(attention, axis=1)"
   ]
  },
  {
   "cell_type": "code",
   "execution_count": 10,
   "id": "3ef1099e-33b3-49b3-9087-21bdf9986a2f",
   "metadata": {},
   "outputs": [],
   "source": [
    "x = Dense(256, activation='relu')(context)\n",
    "#x = Concatenate()([x, static_input])\n",
    "x = Dense(128, activation='relu')(x)\n",
    "output = Dense(y.shape[1], activation='softmax')(x)"
   ]
  },
  {
   "cell_type": "code",
   "execution_count": 11,
   "id": "e28b6081-1156-4234-932f-95be579ff383",
   "metadata": {},
   "outputs": [
    {
     "name": "stdout",
     "output_type": "stream",
     "text": [
      "Model: \"model\"\n",
      "__________________________________________________________________________________________________\n",
      " Layer (type)                Output Shape                 Param #   Connected to                  \n",
      "==================================================================================================\n",
      " input_1 (InputLayer)        [(None, None, 1)]            0         []                            \n",
      "                                                                                                  \n",
      " gru_1 (GRU)                 (None, None, 256)            198912    ['input_1[0][0]']             \n",
      "                                                                                                  \n",
      " gru_2 (GRU)                 (None, None, 256)            394752    ['gru_1[0][0]']               \n",
      "                                                                                                  \n",
      " attention (Attention)       (None, None, 256)            0         ['gru_2[0][0]',               \n",
      "                                                                     'gru_2[0][0]']               \n",
      "                                                                                                  \n",
      " tf.math.reduce_sum (TFOpLa  (None, 256)                  0         ['attention[0][0]']           \n",
      " mbda)                                                                                            \n",
      "                                                                                                  \n",
      " dense (Dense)               (None, 256)                  65792     ['tf.math.reduce_sum[0][0]']  \n",
      "                                                                                                  \n",
      " dense_1 (Dense)             (None, 128)                  32896     ['dense[0][0]']               \n",
      "                                                                                                  \n",
      " dense_2 (Dense)             (None, 40)                   5160      ['dense_1[0][0]']             \n",
      "                                                                                                  \n",
      "==================================================================================================\n",
      "Total params: 697512 (2.66 MB)\n",
      "Trainable params: 697512 (2.66 MB)\n",
      "Non-trainable params: 0 (0.00 Byte)\n",
      "__________________________________________________________________________________________________\n"
     ]
    }
   ],
   "source": [
    "model = Model(inputs=seq_input, outputs=output)\n",
    "model.compile(optimizer='adam', loss='categorical_crossentropy', metrics=['accuracy'])\n",
    "model.summary()"
   ]
  },
  {
   "cell_type": "code",
   "execution_count": null,
   "id": "cfd71115-335d-42c2-9cac-380875a44fc6",
   "metadata": {},
   "outputs": [
    {
     "name": "stdout",
     "output_type": "stream",
     "text": [
      "Epoch 1/10\n"
     ]
    },
    {
     "name": "stderr",
     "output_type": "stream",
     "text": [
      "WARNING: All log messages before absl::InitializeLog() is called are written to STDERR\n",
      "W0000 00:00:1744232946.647929    4519 op_level_cost_estimator.cc:699] Error in PredictCost() for the op: op: \"Softmax\" attr { key: \"T\" value { type: DT_FLOAT } } inputs { dtype: DT_FLOAT shape { unknown_rank: true } } device { type: \"CPU\" vendor: \"AuthenticAMD\" model: \"240\" frequency: 3193 num_cores: 16 environment { key: \"cpu_instruction_set\" value: \"AVX SSE, SSE2, SSE3, SSSE3, SSE4.1, SSE4.2\" } environment { key: \"eigen\" value: \"3.4.90\" } l1_cache_size: 32768 l2_cache_size: 524288 l3_cache_size: 16777216 memory_size: 268435456 } outputs { dtype: DT_FLOAT shape { unknown_rank: true } }\n"
     ]
    },
    {
     "name": "stdout",
     "output_type": "stream",
     "text": [
      "3262/3262 [==============================] - ETA: 0s - loss: 7.3497 - accuracy: 0.0560"
     ]
    },
    {
     "name": "stderr",
     "output_type": "stream",
     "text": [
      "W0000 00:00:1744242857.944955    4519 op_level_cost_estimator.cc:699] Error in PredictCost() for the op: op: \"Softmax\" attr { key: \"T\" value { type: DT_FLOAT } } inputs { dtype: DT_FLOAT shape { unknown_rank: true } } device { type: \"CPU\" vendor: \"AuthenticAMD\" model: \"240\" frequency: 3193 num_cores: 16 environment { key: \"cpu_instruction_set\" value: \"AVX SSE, SSE2, SSE3, SSSE3, SSE4.1, SSE4.2\" } environment { key: \"eigen\" value: \"3.4.90\" } l1_cache_size: 32768 l2_cache_size: 524288 l3_cache_size: 16777216 memory_size: 268435456 } outputs { dtype: DT_FLOAT shape { unknown_rank: true } }\n"
     ]
    },
    {
     "name": "stdout",
     "output_type": "stream",
     "text": [
      "3262/3262 [==============================] - 10621s 3s/step - loss: 7.3497 - accuracy: 0.0560 - val_loss: 3.5577 - val_accuracy: 0.0587\n",
      "Epoch 2/10\n",
      "  23/3262 [..............................] - ETA: 2:40:06 - loss: 3.5489 - accuracy: 0.0543"
     ]
    }
   ],
   "source": [
    "model.fit(X_cents_train, y_train, validation_data=(X_cents_val, y_val), epochs=10)"
   ]
  },
  {
   "cell_type": "code",
   "execution_count": null,
   "id": "2462ee22-25b1-4e69-8ed1-a1d561f94c54",
   "metadata": {},
   "outputs": [],
   "source": []
  }
 ],
 "metadata": {
  "kernelspec": {
   "display_name": "Python 3 (ipykernel)",
   "language": "python",
   "name": "python3"
  },
  "language_info": {
   "codemirror_mode": {
    "name": "ipython",
    "version": 3
   },
   "file_extension": ".py",
   "mimetype": "text/x-python",
   "name": "python",
   "nbconvert_exporter": "python",
   "pygments_lexer": "ipython3",
   "version": "3.10.16"
  }
 },
 "nbformat": 4,
 "nbformat_minor": 5
}
