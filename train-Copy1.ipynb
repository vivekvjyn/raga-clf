{
 "cells": [
  {
   "cell_type": "code",
   "execution_count": 48,
   "id": "24335f78-fbd8-4fa6-b5ef-7b0b628f30be",
   "metadata": {},
   "outputs": [],
   "source": [
    "import numpy as np\n",
    "import tensorflow as tf\n",
    "from tensorflow import keras\n",
    "from sklearn.model_selection import train_test_split"
   ]
  },
  {
   "cell_type": "code",
   "execution_count": 49,
   "id": "47893534-b5ca-4528-b119-38884dbb5282",
   "metadata": {},
   "outputs": [],
   "source": [
    "X_cents = np.load('dataset/cents.npy')\n",
    "X_counts = np.load('dataset/counts.npy')\n",
    "y = np.load('dataset/labels.npy')"
   ]
  },
  {
   "cell_type": "code",
   "execution_count": 50,
   "id": "5868d2ef-21fd-48b4-9c26-1651044a1228",
   "metadata": {},
   "outputs": [
    {
     "name": "stdout",
     "output_type": "stream",
     "text": [
      "X_cents shape: (149084, 1024)\n",
      "X_counts shape: (149084, 73)\n",
      "y shape: (149084, 40)\n"
     ]
    }
   ],
   "source": [
    "print(f'X_cents shape: {X_cents.shape}')\n",
    "print(f'X_counts shape: {X_counts.shape}')\n",
    "print(f'y shape: {y.shape}')"
   ]
  },
  {
   "cell_type": "code",
   "execution_count": 51,
   "id": "188687a1-9959-4f5a-88d1-58eb41f878a1",
   "metadata": {},
   "outputs": [],
   "source": [
    "X_cents_train, X_cents_temp, X_counts_train, X_counts_temp, y_train, y_temp = train_test_split(X_cents, X_counts, y, test_size=0.3, random_state=42)\n",
    "X_cents_val, X_cents_test, X_counts_val, X_counts_test, y_val, y_test = train_test_split(X_cents_temp, X_counts_temp, y_temp, test_size=0.5, random_state=42)"
   ]
  },
  {
   "cell_type": "markdown",
   "id": "8c42538f-6270-4432-b890-20baf6d457bb",
   "metadata": {},
   "source": [
    "## DeepGRU"
   ]
  },
  {
   "cell_type": "code",
   "execution_count": 52,
   "id": "3f4e92c8-5a1f-4929-8ad1-90353e9d72cf",
   "metadata": {},
   "outputs": [],
   "source": [
    "seq_input = keras.layers.Input(shape=(None, 1), name='Sequence input')\n",
    "static_input = keras.layers.Input(shape=(X_counts.shape[1],), name='Static input')"
   ]
  },
  {
   "cell_type": "code",
   "execution_count": 53,
   "id": "6bf94271-7e26-44f9-98d1-434a5b081454",
   "metadata": {},
   "outputs": [],
   "source": [
    "# Encoder Network\n",
    "#x = keras.layers.GRU(128, activation='relu', return_sequences=True)(seq_input)\n",
    "# = keras.layers.GRU(64, activation='relu')(x)\n",
    "\n",
    "# Attention module\n",
    "#x = keras.layers.Attention()([x, x])"
   ]
  },
  {
   "cell_type": "code",
   "execution_count": 54,
   "id": "3ef1099e-33b3-49b3-9087-21bdf9986a2f",
   "metadata": {},
   "outputs": [],
   "source": [
    "#x = keras.layers.Dense(128, activation='relu')(x)\n",
    "#x = keras.layers.Concatenate()([x, static_input])\n",
    "#x = keras.layers.Dense(64, activation='relu')(x)\n",
    "#output = keras.layers.Dense(y.shape[1], activation='softmax', name='output')(x)"
   ]
  },
  {
   "cell_type": "code",
   "execution_count": 58,
   "id": "e28b6081-1156-4234-932f-95be579ff383",
   "metadata": {},
   "outputs": [],
   "source": [
    "x = keras.layers.Dense(512, activation='relu')(static_input)\n",
    "x = keras.layers.Dense(512, activation='relu')(x)\n",
    "x = keras.layers.Dense(256, activation='relu')(x)\n",
    "x = keras.layers.Dense(256, activation='relu')(x)\n",
    "x = keras.layers.Dense(128, activation='relu')(x)\n",
    "x = keras.layers.Dense(64, activation='relu')(x)\n",
    "output = keras.layers.Dense(y.shape[1], activation='softmax', name='output')(x)\n",
    "\n",
    "deepGRU = keras.models.Model(static_input, outputs=output, name='DeepGRU')"
   ]
  },
  {
   "cell_type": "code",
   "execution_count": 59,
   "id": "72578936-49d2-4da2-a2c8-5caf75b19105",
   "metadata": {},
   "outputs": [
    {
     "data": {
      "text/html": [
       "<pre style=\"white-space:pre;overflow-x:auto;line-height:normal;font-family:Menlo,'DejaVu Sans Mono',consolas,'Courier New',monospace\"><span style=\"font-weight: bold\">Model: \"DeepGRU\"</span>\n",
       "</pre>\n"
      ],
      "text/plain": [
       "\u001b[1mModel: \"DeepGRU\"\u001b[0m\n"
      ]
     },
     "metadata": {},
     "output_type": "display_data"
    },
    {
     "data": {
      "text/html": [
       "<pre style=\"white-space:pre;overflow-x:auto;line-height:normal;font-family:Menlo,'DejaVu Sans Mono',consolas,'Courier New',monospace\">┏━━━━━━━━━━━━━━━━━━━━━━━━━━━━━━━━━┳━━━━━━━━━━━━━━━━━━━━━━━━┳━━━━━━━━━━━━━━━┓\n",
       "┃<span style=\"font-weight: bold\"> Layer (type)                    </span>┃<span style=\"font-weight: bold\"> Output Shape           </span>┃<span style=\"font-weight: bold\">       Param # </span>┃\n",
       "┡━━━━━━━━━━━━━━━━━━━━━━━━━━━━━━━━━╇━━━━━━━━━━━━━━━━━━━━━━━━╇━━━━━━━━━━━━━━━┩\n",
       "│ Static input (<span style=\"color: #0087ff; text-decoration-color: #0087ff\">InputLayer</span>)       │ (<span style=\"color: #00d7ff; text-decoration-color: #00d7ff\">None</span>, <span style=\"color: #00af00; text-decoration-color: #00af00\">73</span>)             │             <span style=\"color: #00af00; text-decoration-color: #00af00\">0</span> │\n",
       "├─────────────────────────────────┼────────────────────────┼───────────────┤\n",
       "│ dense_16 (<span style=\"color: #0087ff; text-decoration-color: #0087ff\">Dense</span>)                │ (<span style=\"color: #00d7ff; text-decoration-color: #00d7ff\">None</span>, <span style=\"color: #00af00; text-decoration-color: #00af00\">512</span>)            │        <span style=\"color: #00af00; text-decoration-color: #00af00\">37,888</span> │\n",
       "├─────────────────────────────────┼────────────────────────┼───────────────┤\n",
       "│ dense_17 (<span style=\"color: #0087ff; text-decoration-color: #0087ff\">Dense</span>)                │ (<span style=\"color: #00d7ff; text-decoration-color: #00d7ff\">None</span>, <span style=\"color: #00af00; text-decoration-color: #00af00\">512</span>)            │       <span style=\"color: #00af00; text-decoration-color: #00af00\">262,656</span> │\n",
       "├─────────────────────────────────┼────────────────────────┼───────────────┤\n",
       "│ dense_18 (<span style=\"color: #0087ff; text-decoration-color: #0087ff\">Dense</span>)                │ (<span style=\"color: #00d7ff; text-decoration-color: #00d7ff\">None</span>, <span style=\"color: #00af00; text-decoration-color: #00af00\">256</span>)            │       <span style=\"color: #00af00; text-decoration-color: #00af00\">131,328</span> │\n",
       "├─────────────────────────────────┼────────────────────────┼───────────────┤\n",
       "│ dense_19 (<span style=\"color: #0087ff; text-decoration-color: #0087ff\">Dense</span>)                │ (<span style=\"color: #00d7ff; text-decoration-color: #00d7ff\">None</span>, <span style=\"color: #00af00; text-decoration-color: #00af00\">256</span>)            │        <span style=\"color: #00af00; text-decoration-color: #00af00\">65,792</span> │\n",
       "├─────────────────────────────────┼────────────────────────┼───────────────┤\n",
       "│ dense_20 (<span style=\"color: #0087ff; text-decoration-color: #0087ff\">Dense</span>)                │ (<span style=\"color: #00d7ff; text-decoration-color: #00d7ff\">None</span>, <span style=\"color: #00af00; text-decoration-color: #00af00\">128</span>)            │        <span style=\"color: #00af00; text-decoration-color: #00af00\">32,896</span> │\n",
       "├─────────────────────────────────┼────────────────────────┼───────────────┤\n",
       "│ dense_21 (<span style=\"color: #0087ff; text-decoration-color: #0087ff\">Dense</span>)                │ (<span style=\"color: #00d7ff; text-decoration-color: #00d7ff\">None</span>, <span style=\"color: #00af00; text-decoration-color: #00af00\">64</span>)             │         <span style=\"color: #00af00; text-decoration-color: #00af00\">8,256</span> │\n",
       "├─────────────────────────────────┼────────────────────────┼───────────────┤\n",
       "│ output (<span style=\"color: #0087ff; text-decoration-color: #0087ff\">Dense</span>)                  │ (<span style=\"color: #00d7ff; text-decoration-color: #00d7ff\">None</span>, <span style=\"color: #00af00; text-decoration-color: #00af00\">40</span>)             │         <span style=\"color: #00af00; text-decoration-color: #00af00\">2,600</span> │\n",
       "└─────────────────────────────────┴────────────────────────┴───────────────┘\n",
       "</pre>\n"
      ],
      "text/plain": [
       "┏━━━━━━━━━━━━━━━━━━━━━━━━━━━━━━━━━┳━━━━━━━━━━━━━━━━━━━━━━━━┳━━━━━━━━━━━━━━━┓\n",
       "┃\u001b[1m \u001b[0m\u001b[1mLayer (type)                   \u001b[0m\u001b[1m \u001b[0m┃\u001b[1m \u001b[0m\u001b[1mOutput Shape          \u001b[0m\u001b[1m \u001b[0m┃\u001b[1m \u001b[0m\u001b[1m      Param #\u001b[0m\u001b[1m \u001b[0m┃\n",
       "┡━━━━━━━━━━━━━━━━━━━━━━━━━━━━━━━━━╇━━━━━━━━━━━━━━━━━━━━━━━━╇━━━━━━━━━━━━━━━┩\n",
       "│ Static input (\u001b[38;5;33mInputLayer\u001b[0m)       │ (\u001b[38;5;45mNone\u001b[0m, \u001b[38;5;34m73\u001b[0m)             │             \u001b[38;5;34m0\u001b[0m │\n",
       "├─────────────────────────────────┼────────────────────────┼───────────────┤\n",
       "│ dense_16 (\u001b[38;5;33mDense\u001b[0m)                │ (\u001b[38;5;45mNone\u001b[0m, \u001b[38;5;34m512\u001b[0m)            │        \u001b[38;5;34m37,888\u001b[0m │\n",
       "├─────────────────────────────────┼────────────────────────┼───────────────┤\n",
       "│ dense_17 (\u001b[38;5;33mDense\u001b[0m)                │ (\u001b[38;5;45mNone\u001b[0m, \u001b[38;5;34m512\u001b[0m)            │       \u001b[38;5;34m262,656\u001b[0m │\n",
       "├─────────────────────────────────┼────────────────────────┼───────────────┤\n",
       "│ dense_18 (\u001b[38;5;33mDense\u001b[0m)                │ (\u001b[38;5;45mNone\u001b[0m, \u001b[38;5;34m256\u001b[0m)            │       \u001b[38;5;34m131,328\u001b[0m │\n",
       "├─────────────────────────────────┼────────────────────────┼───────────────┤\n",
       "│ dense_19 (\u001b[38;5;33mDense\u001b[0m)                │ (\u001b[38;5;45mNone\u001b[0m, \u001b[38;5;34m256\u001b[0m)            │        \u001b[38;5;34m65,792\u001b[0m │\n",
       "├─────────────────────────────────┼────────────────────────┼───────────────┤\n",
       "│ dense_20 (\u001b[38;5;33mDense\u001b[0m)                │ (\u001b[38;5;45mNone\u001b[0m, \u001b[38;5;34m128\u001b[0m)            │        \u001b[38;5;34m32,896\u001b[0m │\n",
       "├─────────────────────────────────┼────────────────────────┼───────────────┤\n",
       "│ dense_21 (\u001b[38;5;33mDense\u001b[0m)                │ (\u001b[38;5;45mNone\u001b[0m, \u001b[38;5;34m64\u001b[0m)             │         \u001b[38;5;34m8,256\u001b[0m │\n",
       "├─────────────────────────────────┼────────────────────────┼───────────────┤\n",
       "│ output (\u001b[38;5;33mDense\u001b[0m)                  │ (\u001b[38;5;45mNone\u001b[0m, \u001b[38;5;34m40\u001b[0m)             │         \u001b[38;5;34m2,600\u001b[0m │\n",
       "└─────────────────────────────────┴────────────────────────┴───────────────┘\n"
      ]
     },
     "metadata": {},
     "output_type": "display_data"
    },
    {
     "data": {
      "text/html": [
       "<pre style=\"white-space:pre;overflow-x:auto;line-height:normal;font-family:Menlo,'DejaVu Sans Mono',consolas,'Courier New',monospace\"><span style=\"font-weight: bold\"> Total params: </span><span style=\"color: #00af00; text-decoration-color: #00af00\">541,416</span> (2.07 MB)\n",
       "</pre>\n"
      ],
      "text/plain": [
       "\u001b[1m Total params: \u001b[0m\u001b[38;5;34m541,416\u001b[0m (2.07 MB)\n"
      ]
     },
     "metadata": {},
     "output_type": "display_data"
    },
    {
     "data": {
      "text/html": [
       "<pre style=\"white-space:pre;overflow-x:auto;line-height:normal;font-family:Menlo,'DejaVu Sans Mono',consolas,'Courier New',monospace\"><span style=\"font-weight: bold\"> Trainable params: </span><span style=\"color: #00af00; text-decoration-color: #00af00\">541,416</span> (2.07 MB)\n",
       "</pre>\n"
      ],
      "text/plain": [
       "\u001b[1m Trainable params: \u001b[0m\u001b[38;5;34m541,416\u001b[0m (2.07 MB)\n"
      ]
     },
     "metadata": {},
     "output_type": "display_data"
    },
    {
     "data": {
      "text/html": [
       "<pre style=\"white-space:pre;overflow-x:auto;line-height:normal;font-family:Menlo,'DejaVu Sans Mono',consolas,'Courier New',monospace\"><span style=\"font-weight: bold\"> Non-trainable params: </span><span style=\"color: #00af00; text-decoration-color: #00af00\">0</span> (0.00 B)\n",
       "</pre>\n"
      ],
      "text/plain": [
       "\u001b[1m Non-trainable params: \u001b[0m\u001b[38;5;34m0\u001b[0m (0.00 B)\n"
      ]
     },
     "metadata": {},
     "output_type": "display_data"
    }
   ],
   "source": [
    "deepGRU.compile(optimizer='adam', loss='categorical_crossentropy', metrics=['accuracy'])\n",
    "deepGRU.summary()"
   ]
  },
  {
   "cell_type": "code",
   "execution_count": 62,
   "id": "cfd71115-335d-42c2-9cac-380875a44fc6",
   "metadata": {},
   "outputs": [
    {
     "name": "stdout",
     "output_type": "stream",
     "text": [
      "Epoch 1/50\n",
      "\u001b[1m3262/3262\u001b[0m \u001b[32m━━━━━━━━━━━━━━━━━━━━\u001b[0m\u001b[37m\u001b[0m \u001b[1m9s\u001b[0m 3ms/step - accuracy: 0.7302 - loss: 0.9190 - val_accuracy: 0.4264 - val_loss: 2.9673\n",
      "Epoch 2/50\n",
      "\u001b[1m3262/3262\u001b[0m \u001b[32m━━━━━━━━━━━━━━━━━━━━\u001b[0m\u001b[37m\u001b[0m \u001b[1m12s\u001b[0m 4ms/step - accuracy: 0.7383 - loss: 0.8953 - val_accuracy: 0.4330 - val_loss: 3.0975\n",
      "Epoch 3/50\n",
      "\u001b[1m3262/3262\u001b[0m \u001b[32m━━━━━━━━━━━━━━━━━━━━\u001b[0m\u001b[37m\u001b[0m \u001b[1m9s\u001b[0m 3ms/step - accuracy: 0.7429 - loss: 0.8778 - val_accuracy: 0.4305 - val_loss: 2.9754\n",
      "Epoch 4/50\n",
      "\u001b[1m3262/3262\u001b[0m \u001b[32m━━━━━━━━━━━━━━━━━━━━\u001b[0m\u001b[37m\u001b[0m \u001b[1m9s\u001b[0m 3ms/step - accuracy: 0.7421 - loss: 0.8795 - val_accuracy: 0.4229 - val_loss: 2.9790\n",
      "Epoch 5/50\n",
      "\u001b[1m3262/3262\u001b[0m \u001b[32m━━━━━━━━━━━━━━━━━━━━\u001b[0m\u001b[37m\u001b[0m \u001b[1m12s\u001b[0m 4ms/step - accuracy: 0.7361 - loss: 0.9037 - val_accuracy: 0.4336 - val_loss: 3.0201\n",
      "Epoch 6/50\n",
      "\u001b[1m3262/3262\u001b[0m \u001b[32m━━━━━━━━━━━━━━━━━━━━\u001b[0m\u001b[37m\u001b[0m \u001b[1m9s\u001b[0m 3ms/step - accuracy: 0.7427 - loss: 0.8769 - val_accuracy: 0.4321 - val_loss: 3.0795\n",
      "Epoch 7/50\n",
      "\u001b[1m3262/3262\u001b[0m \u001b[32m━━━━━━━━━━━━━━━━━━━━\u001b[0m\u001b[37m\u001b[0m \u001b[1m9s\u001b[0m 3ms/step - accuracy: 0.7466 - loss: 0.8644 - val_accuracy: 0.4270 - val_loss: 3.1243\n",
      "Epoch 8/50\n",
      "\u001b[1m3262/3262\u001b[0m \u001b[32m━━━━━━━━━━━━━━━━━━━━\u001b[0m\u001b[37m\u001b[0m \u001b[1m9s\u001b[0m 3ms/step - accuracy: 0.7441 - loss: 0.8766 - val_accuracy: 0.4288 - val_loss: 3.2499\n",
      "Epoch 9/50\n",
      "\u001b[1m3262/3262\u001b[0m \u001b[32m━━━━━━━━━━━━━━━━━━━━\u001b[0m\u001b[37m\u001b[0m \u001b[1m12s\u001b[0m 4ms/step - accuracy: 0.7486 - loss: 0.8615 - val_accuracy: 0.4305 - val_loss: 3.2772\n",
      "Epoch 10/50\n",
      "\u001b[1m3262/3262\u001b[0m \u001b[32m━━━━━━━━━━━━━━━━━━━━\u001b[0m\u001b[37m\u001b[0m \u001b[1m9s\u001b[0m 3ms/step - accuracy: 0.7512 - loss: 0.8610 - val_accuracy: 0.4324 - val_loss: 3.0842\n",
      "Epoch 11/50\n",
      "\u001b[1m3262/3262\u001b[0m \u001b[32m━━━━━━━━━━━━━━━━━━━━\u001b[0m\u001b[37m\u001b[0m \u001b[1m9s\u001b[0m 3ms/step - accuracy: 0.7547 - loss: 0.8457 - val_accuracy: 0.4305 - val_loss: 3.2238\n",
      "Epoch 12/50\n",
      "\u001b[1m3262/3262\u001b[0m \u001b[32m━━━━━━━━━━━━━━━━━━━━\u001b[0m\u001b[37m\u001b[0m \u001b[1m13s\u001b[0m 4ms/step - accuracy: 0.7562 - loss: 0.8319 - val_accuracy: 0.4293 - val_loss: 3.1570\n",
      "Epoch 13/50\n",
      "\u001b[1m3262/3262\u001b[0m \u001b[32m━━━━━━━━━━━━━━━━━━━━\u001b[0m\u001b[37m\u001b[0m \u001b[1m10s\u001b[0m 3ms/step - accuracy: 0.7565 - loss: 0.8358 - val_accuracy: 0.4282 - val_loss: 3.1483\n",
      "Epoch 14/50\n",
      "\u001b[1m3262/3262\u001b[0m \u001b[32m━━━━━━━━━━━━━━━━━━━━\u001b[0m\u001b[37m\u001b[0m \u001b[1m9s\u001b[0m 3ms/step - accuracy: 0.7601 - loss: 0.8278 - val_accuracy: 0.4308 - val_loss: 3.0884\n",
      "Epoch 15/50\n",
      "\u001b[1m3262/3262\u001b[0m \u001b[32m━━━━━━━━━━━━━━━━━━━━\u001b[0m\u001b[37m\u001b[0m \u001b[1m10s\u001b[0m 3ms/step - accuracy: 0.7627 - loss: 0.8240 - val_accuracy: 0.4302 - val_loss: 3.1492\n",
      "Epoch 16/50\n",
      "\u001b[1m3262/3262\u001b[0m \u001b[32m━━━━━━━━━━━━━━━━━━━━\u001b[0m\u001b[37m\u001b[0m \u001b[1m15s\u001b[0m 5ms/step - accuracy: 0.7660 - loss: 0.8091 - val_accuracy: 0.4269 - val_loss: 3.2894\n",
      "Epoch 17/50\n",
      "\u001b[1m3262/3262\u001b[0m \u001b[32m━━━━━━━━━━━━━━━━━━━━\u001b[0m\u001b[37m\u001b[0m \u001b[1m14s\u001b[0m 4ms/step - accuracy: 0.7609 - loss: 0.8343 - val_accuracy: 0.4281 - val_loss: 3.2548\n",
      "Epoch 18/50\n",
      "\u001b[1m3262/3262\u001b[0m \u001b[32m━━━━━━━━━━━━━━━━━━━━\u001b[0m\u001b[37m\u001b[0m \u001b[1m14s\u001b[0m 4ms/step - accuracy: 0.7651 - loss: 0.8171 - val_accuracy: 0.4301 - val_loss: 3.3173\n",
      "Epoch 19/50\n",
      "\u001b[1m3262/3262\u001b[0m \u001b[32m━━━━━━━━━━━━━━━━━━━━\u001b[0m\u001b[37m\u001b[0m \u001b[1m12s\u001b[0m 4ms/step - accuracy: 0.7659 - loss: 0.8103 - val_accuracy: 0.4223 - val_loss: 3.3624\n",
      "Epoch 20/50\n",
      "\u001b[1m3262/3262\u001b[0m \u001b[32m━━━━━━━━━━━━━━━━━━━━\u001b[0m\u001b[37m\u001b[0m \u001b[1m11s\u001b[0m 3ms/step - accuracy: 0.7637 - loss: 0.8162 - val_accuracy: 0.4303 - val_loss: 3.4060\n",
      "Epoch 21/50\n",
      "\u001b[1m3262/3262\u001b[0m \u001b[32m━━━━━━━━━━━━━━━━━━━━\u001b[0m\u001b[37m\u001b[0m \u001b[1m14s\u001b[0m 4ms/step - accuracy: 0.7723 - loss: 0.7913 - val_accuracy: 0.4310 - val_loss: 3.2848\n",
      "Epoch 22/50\n",
      "\u001b[1m3262/3262\u001b[0m \u001b[32m━━━━━━━━━━━━━━━━━━━━\u001b[0m\u001b[37m\u001b[0m \u001b[1m11s\u001b[0m 3ms/step - accuracy: 0.7705 - loss: 0.7979 - val_accuracy: 0.4308 - val_loss: 3.4618\n",
      "Epoch 23/50\n",
      "\u001b[1m3262/3262\u001b[0m \u001b[32m━━━━━━━━━━━━━━━━━━━━\u001b[0m\u001b[37m\u001b[0m \u001b[1m11s\u001b[0m 3ms/step - accuracy: 0.7704 - loss: 0.8018 - val_accuracy: 0.4301 - val_loss: 3.3781\n",
      "Epoch 24/50\n",
      "\u001b[1m3262/3262\u001b[0m \u001b[32m━━━━━━━━━━━━━━━━━━━━\u001b[0m\u001b[37m\u001b[0m \u001b[1m12s\u001b[0m 4ms/step - accuracy: 0.7732 - loss: 0.7842 - val_accuracy: 0.4321 - val_loss: 3.3480\n",
      "Epoch 25/50\n",
      "\u001b[1m3262/3262\u001b[0m \u001b[32m━━━━━━━━━━━━━━━━━━━━\u001b[0m\u001b[37m\u001b[0m \u001b[1m9s\u001b[0m 3ms/step - accuracy: 0.7769 - loss: 0.7725 - val_accuracy: 0.4277 - val_loss: 3.5030\n",
      "Epoch 26/50\n",
      "\u001b[1m3262/3262\u001b[0m \u001b[32m━━━━━━━━━━━━━━━━━━━━\u001b[0m\u001b[37m\u001b[0m \u001b[1m9s\u001b[0m 3ms/step - accuracy: 0.7760 - loss: 0.7817 - val_accuracy: 0.4325 - val_loss: 3.4352\n",
      "Epoch 27/50\n",
      "\u001b[1m3262/3262\u001b[0m \u001b[32m━━━━━━━━━━━━━━━━━━━━\u001b[0m\u001b[37m\u001b[0m \u001b[1m13s\u001b[0m 4ms/step - accuracy: 0.7756 - loss: 0.7821 - val_accuracy: 0.4250 - val_loss: 3.5452\n",
      "Epoch 28/50\n",
      "\u001b[1m3262/3262\u001b[0m \u001b[32m━━━━━━━━━━━━━━━━━━━━\u001b[0m\u001b[37m\u001b[0m \u001b[1m10s\u001b[0m 3ms/step - accuracy: 0.7791 - loss: 0.7703 - val_accuracy: 0.4279 - val_loss: 3.5729\n",
      "Epoch 29/50\n",
      "\u001b[1m3262/3262\u001b[0m \u001b[32m━━━━━━━━━━━━━━━━━━━━\u001b[0m\u001b[37m\u001b[0m \u001b[1m10s\u001b[0m 3ms/step - accuracy: 0.7822 - loss: 0.7557 - val_accuracy: 0.4290 - val_loss: 3.4290\n",
      "Epoch 30/50\n",
      "\u001b[1m3262/3262\u001b[0m \u001b[32m━━━━━━━━━━━━━━━━━━━━\u001b[0m\u001b[37m\u001b[0m \u001b[1m9s\u001b[0m 3ms/step - accuracy: 0.7823 - loss: 0.7747 - val_accuracy: 0.4291 - val_loss: 3.7503\n",
      "Epoch 31/50\n",
      "\u001b[1m3262/3262\u001b[0m \u001b[32m━━━━━━━━━━━━━━━━━━━━\u001b[0m\u001b[37m\u001b[0m \u001b[1m12s\u001b[0m 4ms/step - accuracy: 0.7833 - loss: 0.7620 - val_accuracy: 0.4288 - val_loss: 3.5370\n",
      "Epoch 32/50\n",
      "\u001b[1m3262/3262\u001b[0m \u001b[32m━━━━━━━━━━━━━━━━━━━━\u001b[0m\u001b[37m\u001b[0m \u001b[1m10s\u001b[0m 3ms/step - accuracy: 0.7845 - loss: 0.7543 - val_accuracy: 0.4291 - val_loss: 3.3712\n",
      "Epoch 33/50\n",
      "\u001b[1m3262/3262\u001b[0m \u001b[32m━━━━━━━━━━━━━━━━━━━━\u001b[0m\u001b[37m\u001b[0m \u001b[1m9s\u001b[0m 3ms/step - accuracy: 0.7858 - loss: 0.7548 - val_accuracy: 0.4280 - val_loss: 3.7590\n",
      "Epoch 34/50\n",
      "\u001b[1m3262/3262\u001b[0m \u001b[32m━━━━━━━━━━━━━━━━━━━━\u001b[0m\u001b[37m\u001b[0m \u001b[1m12s\u001b[0m 4ms/step - accuracy: 0.7866 - loss: 0.7474 - val_accuracy: 0.4281 - val_loss: 3.5841\n",
      "Epoch 35/50\n",
      "\u001b[1m3262/3262\u001b[0m \u001b[32m━━━━━━━━━━━━━━━━━━━━\u001b[0m\u001b[37m\u001b[0m \u001b[1m9s\u001b[0m 3ms/step - accuracy: 0.7920 - loss: 0.7360 - val_accuracy: 0.4282 - val_loss: 3.6502\n",
      "Epoch 36/50\n",
      "\u001b[1m3262/3262\u001b[0m \u001b[32m━━━━━━━━━━━━━━━━━━━━\u001b[0m\u001b[37m\u001b[0m \u001b[1m10s\u001b[0m 3ms/step - accuracy: 0.7932 - loss: 0.7310 - val_accuracy: 0.4301 - val_loss: 3.7418\n",
      "Epoch 37/50\n",
      "\u001b[1m3262/3262\u001b[0m \u001b[32m━━━━━━━━━━━━━━━━━━━━\u001b[0m\u001b[37m\u001b[0m \u001b[1m10s\u001b[0m 3ms/step - accuracy: 0.7855 - loss: 0.7527 - val_accuracy: 0.4249 - val_loss: 3.8495\n",
      "Epoch 38/50\n",
      "\u001b[1m3262/3262\u001b[0m \u001b[32m━━━━━━━━━━━━━━━━━━━━\u001b[0m\u001b[37m\u001b[0m \u001b[1m13s\u001b[0m 4ms/step - accuracy: 0.7931 - loss: 0.7278 - val_accuracy: 0.4205 - val_loss: 3.6091\n",
      "Epoch 39/50\n",
      "\u001b[1m3262/3262\u001b[0m \u001b[32m━━━━━━━━━━━━━━━━━━━━\u001b[0m\u001b[37m\u001b[0m \u001b[1m10s\u001b[0m 3ms/step - accuracy: 0.7910 - loss: 0.7334 - val_accuracy: 0.4305 - val_loss: 3.6756\n",
      "Epoch 40/50\n",
      "\u001b[1m3262/3262\u001b[0m \u001b[32m━━━━━━━━━━━━━━━━━━━━\u001b[0m\u001b[37m\u001b[0m \u001b[1m10s\u001b[0m 3ms/step - accuracy: 0.7960 - loss: 0.7141 - val_accuracy: 0.4251 - val_loss: 3.8587\n",
      "Epoch 41/50\n",
      "\u001b[1m3262/3262\u001b[0m \u001b[32m━━━━━━━━━━━━━━━━━━━━\u001b[0m\u001b[37m\u001b[0m \u001b[1m13s\u001b[0m 4ms/step - accuracy: 0.7947 - loss: 0.7312 - val_accuracy: 0.4245 - val_loss: 3.7484\n",
      "Epoch 42/50\n",
      "\u001b[1m3262/3262\u001b[0m \u001b[32m━━━━━━━━━━━━━━━━━━━━\u001b[0m\u001b[37m\u001b[0m \u001b[1m10s\u001b[0m 3ms/step - accuracy: 0.7912 - loss: 0.7394 - val_accuracy: 0.4293 - val_loss: 3.7491\n",
      "Epoch 43/50\n",
      "\u001b[1m3262/3262\u001b[0m \u001b[32m━━━━━━━━━━━━━━━━━━━━\u001b[0m\u001b[37m\u001b[0m \u001b[1m10s\u001b[0m 3ms/step - accuracy: 0.8010 - loss: 0.7062 - val_accuracy: 0.4243 - val_loss: 3.8528\n",
      "Epoch 44/50\n",
      "\u001b[1m3262/3262\u001b[0m \u001b[32m━━━━━━━━━━━━━━━━━━━━\u001b[0m\u001b[37m\u001b[0m \u001b[1m13s\u001b[0m 4ms/step - accuracy: 0.8014 - loss: 0.7096 - val_accuracy: 0.4218 - val_loss: 3.6932\n",
      "Epoch 45/50\n",
      "\u001b[1m3262/3262\u001b[0m \u001b[32m━━━━━━━━━━━━━━━━━━━━\u001b[0m\u001b[37m\u001b[0m \u001b[1m10s\u001b[0m 3ms/step - accuracy: 0.8010 - loss: 0.7117 - val_accuracy: 0.4259 - val_loss: 3.8450\n",
      "Epoch 46/50\n",
      "\u001b[1m3262/3262\u001b[0m \u001b[32m━━━━━━━━━━━━━━━━━━━━\u001b[0m\u001b[37m\u001b[0m \u001b[1m11s\u001b[0m 3ms/step - accuracy: 0.8023 - loss: 0.6945 - val_accuracy: 0.4272 - val_loss: 3.9367\n",
      "Epoch 47/50\n",
      "\u001b[1m3262/3262\u001b[0m \u001b[32m━━━━━━━━━━━━━━━━━━━━\u001b[0m\u001b[37m\u001b[0m \u001b[1m14s\u001b[0m 4ms/step - accuracy: 0.7958 - loss: 0.7260 - val_accuracy: 0.4278 - val_loss: 3.9710\n",
      "Epoch 48/50\n",
      "\u001b[1m3262/3262\u001b[0m \u001b[32m━━━━━━━━━━━━━━━━━━━━\u001b[0m\u001b[37m\u001b[0m \u001b[1m10s\u001b[0m 3ms/step - accuracy: 0.8037 - loss: 0.7018 - val_accuracy: 0.4246 - val_loss: 3.9384\n",
      "Epoch 49/50\n",
      "\u001b[1m3262/3262\u001b[0m \u001b[32m━━━━━━━━━━━━━━━━━━━━\u001b[0m\u001b[37m\u001b[0m \u001b[1m11s\u001b[0m 3ms/step - accuracy: 0.7982 - loss: 0.7284 - val_accuracy: 0.4254 - val_loss: 4.1488\n",
      "Epoch 50/50\n",
      "\u001b[1m3262/3262\u001b[0m \u001b[32m━━━━━━━━━━━━━━━━━━━━\u001b[0m\u001b[37m\u001b[0m \u001b[1m14s\u001b[0m 4ms/step - accuracy: 0.8045 - loss: 0.6971 - val_accuracy: 0.4257 - val_loss: 3.9386\n"
     ]
    },
    {
     "data": {
      "text/plain": [
       "<keras.src.callbacks.history.History at 0x7f72c35324e0>"
      ]
     },
     "execution_count": 62,
     "metadata": {},
     "output_type": "execute_result"
    }
   ],
   "source": [
    "deepGRU.fit(X_counts_train, y_train, validation_data=(X_counts_val, y_val), epochs=50)"
   ]
  },
  {
   "cell_type": "code",
   "execution_count": null,
   "id": "2462ee22-25b1-4e69-8ed1-a1d561f94c54",
   "metadata": {},
   "outputs": [],
   "source": [
    "deepGRU.save('models/deepGRU.h5')"
   ]
  }
 ],
 "metadata": {
  "kernelspec": {
   "display_name": "Python 3 (ipykernel)",
   "language": "python",
   "name": "python3"
  },
  "language_info": {
   "codemirror_mode": {
    "name": "ipython",
    "version": 3
   },
   "file_extension": ".py",
   "mimetype": "text/x-python",
   "name": "python",
   "nbconvert_exporter": "python",
   "pygments_lexer": "ipython3",
   "version": "3.12.9"
  }
 },
 "nbformat": 4,
 "nbformat_minor": 5
}
