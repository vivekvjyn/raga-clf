{
 "cells": [
  {
   "cell_type": "code",
   "execution_count": 1,
   "id": "78b14599-0146-422b-9716-f44ccb2c2315",
   "metadata": {},
   "outputs": [
    {
     "ename": "ModuleNotFoundError",
     "evalue": "No module named 'compiam'",
     "output_type": "error",
     "traceback": [
      "\u001b[31m---------------------------------------------------------------------------\u001b[39m",
      "\u001b[31mModuleNotFoundError\u001b[39m                       Traceback (most recent call last)",
      "\u001b[36mCell\u001b[39m\u001b[36m \u001b[39m\u001b[32mIn[1]\u001b[39m\u001b[32m, line 1\u001b[39m\n\u001b[32m----> \u001b[39m\u001b[32m1\u001b[39m \u001b[38;5;28;01mimport\u001b[39;00m \u001b[34;01mcompiam\u001b[39;00m\n\u001b[32m      2\u001b[39m \u001b[38;5;28;01mimport\u001b[39;00m \u001b[34;01mnumpy\u001b[39;00m \u001b[38;5;28;01mas\u001b[39;00m \u001b[34;01mnp\u001b[39;00m\n\u001b[32m      3\u001b[39m \u001b[38;5;28;01mimport\u001b[39;00m \u001b[34;01mmatplotlib\u001b[39;00m\u001b[34;01m.\u001b[39;00m\u001b[34;01mpyplot\u001b[39;00m \u001b[38;5;28;01mas\u001b[39;00m \u001b[34;01mplt\u001b[39;00m\n",
      "\u001b[31mModuleNotFoundError\u001b[39m: No module named 'compiam'"
     ]
    }
   ],
   "source": [
    "import numpy as np\n",
    "import matplotlib.pyplot as plt\n",
    "import mirdata\n",
    "from tensorflow.keras.utils import to_categorical\n",
    "from tqdm import tqdm"
   ]
  },
  {
   "cell_type": "markdown",
   "id": "ffb15a67-ff5e-418a-9b8e-caf2b8c8b018",
   "metadata": {},
   "source": [
    "## Load dataset with mirdata dataset loader"
   ]
  },
  {
   "cell_type": "code",
   "execution_count": null,
   "id": "b8c7c93c-1c6e-4a62-9412-3db71dc54f9c",
   "metadata": {},
   "outputs": [],
   "source": [
    "data_home = 'dataset'\n",
    "dataset_name = 'compmusic_raga'"
   ]
  },
  {
   "cell_type": "code",
   "execution_count": 41,
   "id": "ef9b5dc0-2fd3-458b-9674-118bdaf555f5",
   "metadata": {},
   "outputs": [],
   "source": [
    "dataset = mirdata.initialize(dataset_name, data_home=data_home)"
   ]
  },
  {
   "cell_type": "code",
   "execution_count": 42,
   "id": "04fba30f-b80d-4dbd-aa26-89a0008aae1a",
   "metadata": {},
   "outputs": [],
   "source": [
    "#dataset.download()"
   ]
  },
  {
   "cell_type": "code",
   "execution_count": 43,
   "id": "d6361c5a-f29b-41e2-87d9-2cc6d20071df",
   "metadata": {},
   "outputs": [],
   "source": [
    "data = dataset.load_tracks()"
   ]
  },
  {
   "cell_type": "markdown",
   "id": "bc13c0cd-fd0c-49fd-ab55-ab6961d581ad",
   "metadata": {},
   "source": [
    "## Preprocess data"
   ]
  },
  {
   "cell_type": "code",
   "execution_count": 49,
   "id": "437e1a85-d2b9-4068-b7a4-8ad768d640ab",
   "metadata": {},
   "outputs": [
    {
     "name": "stderr",
     "output_type": "stream",
     "text": [
      "100%|█████████████████████████████████████████████████████████████████████████████████████████████████████████████████████████████████████████████████████| 477/477 [00:12<00:00, 39.30it/s]\n"
     ]
    }
   ],
   "source": [
    "X_srutis = list()\n",
    "X_counts = list()\n",
    "y = list()\n",
    "\n",
    "window_length = 1024\n",
    "hop_length = 512\n",
    "\n",
    "min_sruti = int(np.floor(24 * np.log2(1 / 2)))\n",
    "max_sruti = int(np.ceil(24 * np.log2(4)))\n",
    "all_srutis = np.arange(min_sruti, max_sruti + 1)\n",
    "\n",
    "for track_id, track in tqdm(data.items()):\n",
    "    # Skip hindustani\n",
    "    if track.tradition != 'carnatic':\n",
    "        continue\n",
    "\n",
    "    # Get annotations\n",
    "    tonic = track.tonic_fine_tuned\n",
    "    pitch = track.pitch_post_processed\n",
    "    frequencies = pitch.frequencies\n",
    "\n",
    "    # Get ragam\n",
    "    raga = track.raga\n",
    "\n",
    "    # process frequencies\n",
    "    frequencies = frequencies[frequencies != 0]\n",
    "    frequencies = frequencies[(frequencies >= tonic / 2) & (frequencies <= tonic * 4)]\n",
    "\n",
    "    for i in range(0, len(frequencies) - window_length, hop_length):\n",
    "        curr_frequencies = frequencies[i: i + window_length]\n",
    "\n",
    "        # convert to srutis\n",
    "        srutis = np.round(24 * np.log2(curr_frequencies / tonic))\n",
    "\n",
    "        # Compute sruti counts\n",
    "        unique_srutis, counts = np.unique(srutis, return_counts=True)\n",
    "        sruti_counts = dict(zip(unique_srutis, counts))\n",
    "        full_sruti_counts = np.array(list({sruti: sruti_counts.get(sruti, 0) for sruti in all_srutis}.values()))\n",
    "\n",
    "        X_srutis.append(srutis)\n",
    "        X_counts.append(full_sruti_counts)\n",
    "        y.append(raga)\n",
    "\n",
    "X_srutis = np.array(X_srutis)\n",
    "X_counts = np.array(X_counts)\n",
    "y = np.array(y)"
   ]
  },
  {
   "cell_type": "markdown",
   "id": "11d7d391-aad1-4b59-ab99-b8825ff5c418",
   "metadata": {},
   "source": [
    "## Convert labels to one hot encodings"
   ]
  },
  {
   "cell_type": "code",
   "execution_count": 51,
   "id": "a2947be4-a6cc-4033-8acf-5f02eabaa1a5",
   "metadata": {},
   "outputs": [],
   "source": [
    "all_ragas = list(set(y))\n",
    "len(all_ragas)\n",
    "\n",
    "for i in range(len(y)):\n",
    "    y[i] = all_ragas.index(y[i])\n",
    "\n",
    "y = to_categorical(y, num_classes=len(all_ragas))\n",
    "all_ragas = np.array(all_ragas)"
   ]
  },
  {
   "cell_type": "markdown",
   "id": "b34f616e-4f94-47e9-908b-1287b8901911",
   "metadata": {},
   "source": [
    "## Save dataset"
   ]
  },
  {
   "cell_type": "code",
   "execution_count": 55,
   "id": "e3a69e89-1e9d-479d-a9dc-d364cc770c05",
   "metadata": {},
   "outputs": [],
   "source": [
    "np.save('dataset/cents.npy', X_cents)\n",
    "np.save('dataset/counts.npy', X_counts)\n",
    "np.save('dataset/labels.npy', y)\n",
    "np.save('dataset/ragas.npy', all_ragas)"
   ]
  },
  {
   "cell_type": "code",
   "execution_count": null,
   "id": "063e60a6-9a46-4609-93ce-d439ccf0e7a2",
   "metadata": {},
   "outputs": [],
   "source": []
  }
 ],
 "metadata": {
  "kernelspec": {
   "display_name": "Python 3 (ipykernel)",
   "language": "python",
   "name": "python3"
  },
  "language_info": {
   "codemirror_mode": {
    "name": "ipython",
    "version": 3
   },
   "file_extension": ".py",
   "mimetype": "text/x-python",
   "name": "python",
   "nbconvert_exporter": "python",
   "pygments_lexer": "ipython3",
   "version": "3.12.9"
  }
 },
 "nbformat": 4,
 "nbformat_minor": 5
}
